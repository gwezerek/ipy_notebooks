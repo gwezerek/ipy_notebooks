{
 "metadata": {
  "name": "",
  "signature": "sha256:dc45959229e92d0cd996d8b48493e64a396beb240c79c5815a81a55281d8fe67"
 },
 "nbformat": 3,
 "nbformat_minor": 0,
 "worksheets": [
  {
   "cells": [
    {
     "cell_type": "code",
     "collapsed": false,
     "input": [
      "## INHERITANCE"
     ],
     "language": "python",
     "metadata": {},
     "outputs": [],
     "prompt_number": 1
    },
    {
     "cell_type": "code",
     "collapsed": false,
     "input": [
      "## Basic inheritance syntax\n",
      "# class ChildClassName(ParentClassName):\n",
      "#     def __init__(self):\n",
      "        #and so on\u2026nothing else changes here."
     ],
     "language": "python",
     "metadata": {},
     "outputs": [],
     "prompt_number": 4
    },
    {
     "cell_type": "code",
     "collapsed": false,
     "input": [
      "# Say we were defining a parent class Monster to be subclassed into specific monsters\n",
      "class Monster:\n",
      "    def __init__(self):\n",
      "        self.health = 100\n",
      "        self.attack = 20\n",
      "        self.defense = 20\n",
      "        self.speed = 10\n",
      "        self.accuracy = .50\n",
      "        self.magic_resist = .30\n",
      "        def attack(m):\n",
      "            pass"
     ],
     "language": "python",
     "metadata": {},
     "outputs": [],
     "prompt_number": 9
    },
    {
     "cell_type": "code",
     "collapsed": false,
     "input": [
      "# Our first child class, no different than the parent class\n",
      "class Banshee(Monster):\n",
      "    pass\n",
      "\n",
      "# We put pass there to satisfy the requirement that classes must have something in them"
     ],
     "language": "python",
     "metadata": {},
     "outputs": [],
     "prompt_number": 10
    },
    {
     "cell_type": "code",
     "collapsed": false,
     "input": [
      "my_first_banshee = Banshee()\n",
      "my_first_banshee.attack\n"
     ],
     "language": "python",
     "metadata": {},
     "outputs": [
      {
       "metadata": {},
       "output_type": "pyout",
       "prompt_number": 11,
       "text": [
        "20"
       ]
      }
     ],
     "prompt_number": 11
    },
    {
     "cell_type": "code",
     "collapsed": false,
     "input": [
      "class Banshee(Monster):\n",
      "    def __init__(self):\n",
      "        \n",
      "        # Use the Monster's __init__ as default\n",
      "        super().__init__() \n",
      "        \n",
      "        self.attack = 25\n",
      "        self.defense = 10\n",
      "        self.accuracy = 1\n",
      "\n",
      "class Dragon(Monster):\n",
      "    def __init__(self):\n",
      "        super().__init__()\n",
      "        self.attack = 200\n",
      "        self.defense = 200\n",
      "        self.health = 1000\n",
      "        def attackEveryone(nearbyMonsters):\n",
      "            for m in nearbyMonsters:\n",
      "                self.attack(m)\n",
      "\n"
     ],
     "language": "python",
     "metadata": {},
     "outputs": [],
     "prompt_number": 12
    },
    {
     "cell_type": "code",
     "collapsed": false,
     "input": [],
     "language": "python",
     "metadata": {},
     "outputs": []
    }
   ],
   "metadata": {}
  }
 ]
}