{
 "metadata": {
  "name": "",
  "signature": "sha256:4acae3ea84a24d6bae11f41dbcf30f3dd31ea661fbbefdb795768a0c78f78c73"
 },
 "nbformat": 3,
 "nbformat_minor": 0,
 "worksheets": [
  {
   "cells": [
    {
     "cell_type": "code",
     "collapsed": false,
     "input": [
      "#1\n",
      "\n",
      "myList = [1,2,3,4,5,6]\n",
      "\n",
      "print myList[::2]\n",
      "\n",
      "# OR\n",
      "\n",
      "i = 0\n",
      "while i < len(myList):\n",
      "    if i % 2 == 0:\n",
      "        print myList[i]\n",
      "    i += 1"
     ],
     "language": "python",
     "metadata": {},
     "outputs": [
      {
       "output_type": "stream",
       "stream": "stdout",
       "text": [
        "[1, 3, 5]\n",
        "1\n",
        "3\n",
        "5\n"
       ]
      }
     ],
     "prompt_number": 2
    },
    {
     "cell_type": "code",
     "collapsed": false,
     "input": [
      "#2\n",
      "\n",
      "i = 0\n",
      "myList = []\n",
      "while i < 10:\n",
      "    ourNum = input(\"Gimme number plz: \")\n",
      "    myList.append(int(ourNum))\n",
      "    i += 1\n",
      "    \n",
      "i = 0\n",
      "while i < len(myList):\n",
      "    if myList[i] % 3 == 0:\n",
      "        del myList[i]\n",
      "    i += 1\n",
      "\n",
      "print myList"
     ],
     "language": "python",
     "metadata": {},
     "outputs": [
      {
       "name": "stdout",
       "output_type": "stream",
       "stream": "stdout",
       "text": [
        "Gimme number plz: 1\n"
       ]
      },
      {
       "name": "stdout",
       "output_type": "stream",
       "stream": "stdout",
       "text": [
        "Gimme number plz: 2\n"
       ]
      },
      {
       "name": "stdout",
       "output_type": "stream",
       "stream": "stdout",
       "text": [
        "Gimme number plz: 3\n"
       ]
      },
      {
       "name": "stdout",
       "output_type": "stream",
       "stream": "stdout",
       "text": [
        "Gimme number plz: 4\n"
       ]
      },
      {
       "name": "stdout",
       "output_type": "stream",
       "stream": "stdout",
       "text": [
        "Gimme number plz: 5\n"
       ]
      },
      {
       "name": "stdout",
       "output_type": "stream",
       "stream": "stdout",
       "text": [
        "Gimme number plz: 6\n"
       ]
      },
      {
       "name": "stdout",
       "output_type": "stream",
       "stream": "stdout",
       "text": [
        "Gimme number plz: 7\n"
       ]
      },
      {
       "name": "stdout",
       "output_type": "stream",
       "stream": "stdout",
       "text": [
        "Gimme number plz: 8\n"
       ]
      },
      {
       "name": "stdout",
       "output_type": "stream",
       "stream": "stdout",
       "text": [
        "Gimme number plz: 9\n"
       ]
      },
      {
       "name": "stdout",
       "output_type": "stream",
       "stream": "stdout",
       "text": [
        "Gimme number plz: 10\n"
       ]
      },
      {
       "output_type": "stream",
       "stream": "stdout",
       "text": [
        "[1, 2, 4, 5, 7, 8, 10]\n"
       ]
      }
     ],
     "prompt_number": 1
    },
    {
     "cell_type": "code",
     "collapsed": false,
     "input": [
      "#3\n",
      "\n",
      "a = [1,2,3]\n",
      "b = [4,5,6]\n",
      "c = []\n",
      "\n",
      "# Method 1\n",
      "print a + b\n",
      "\n",
      "# Method 2\n",
      "c = a[:]\n",
      "c.extend(b)\n",
      "\n",
      "print c\n",
      "\n",
      "# Method 3\n",
      "c = []\n",
      "n = 0\n",
      "while n < len(a):\n",
      "    c.append(a[n])\n",
      "    n += 1\n",
      "n = 0\n",
      "while n < len(b):\n",
      "    c.append(b[n])\n",
      "    n += 1\n",
      "\n",
      "print c"
     ],
     "language": "python",
     "metadata": {},
     "outputs": [
      {
       "output_type": "stream",
       "stream": "stdout",
       "text": [
        "[1, 2, 3, 4, 5, 6]\n",
        "[1, 2, 3, 4, 5, 6]\n",
        "[1, 2, 3, 4, 5, 6]\n"
       ]
      }
     ],
     "prompt_number": 8
    },
    {
     "cell_type": "code",
     "collapsed": false,
     "input": [
      "#4\n",
      "\n",
      "list1 = [\"a\"]*6\n",
      "list2 = [\"b\"]*6\n",
      "\n",
      "c = list(zip(list1,list2))\n",
      "d = []\n",
      "for x,y in c:\n",
      "    d.append(x)\n",
      "    d.append(y)\n",
      "    \n",
      "print d"
     ],
     "language": "python",
     "metadata": {},
     "outputs": [
      {
       "output_type": "stream",
       "stream": "stdout",
       "text": [
        "['a', 'b', 'a', 'b', 'a', 'b', 'a', 'b', 'a', 'b', 'a', 'b']\n"
       ]
      }
     ],
     "prompt_number": 19
    },
    {
     "cell_type": "code",
     "collapsed": false,
     "input": [
      "a = [1,4,7,7,9,9,2,4,1]\n"
     ],
     "language": "python",
     "metadata": {},
     "outputs": [
      {
       "metadata": {},
       "output_type": "pyout",
       "prompt_number": 27,
       "text": [
        "9"
       ]
      }
     ],
     "prompt_number": 27
    },
    {
     "cell_type": "code",
     "collapsed": false,
     "input": [
      "#5\n",
      "\n",
      "a = [1,4,7,10,2]\n",
      "\n",
      "b = []\n",
      "i = 0\n",
      "n = 0\n",
      "\n",
      "while n < len(a) - 1:\n",
      "    while i < len(a)-1:\n",
      "        if a[i] < a[i+1]:\n",
      "            i+=1\n",
      "            n+=1\n",
      "        elif i == len(a):\n",
      "            i+=1\n",
      "        else:\n",
      "            a[i], a[i+1] = a[i+1], a[i]\n",
      "            i+=1\n",
      "    if n == len(a) - 1:\n",
      "        print a\n",
      "    else:\n",
      "        i = 0\n",
      "        n = 0"
     ],
     "language": "python",
     "metadata": {},
     "outputs": [
      {
       "ename": "SyntaxError",
       "evalue": "illegal expression for augmented assignment (<ipython-input-4-86ff7af0a23e>, line 12)",
       "output_type": "pyerr",
       "traceback": [
        "\u001b[0;36m  File \u001b[0;32m\"<ipython-input-4-86ff7af0a23e>\"\u001b[0;36m, line \u001b[0;32m12\u001b[0m\n\u001b[0;31m    i,n +=1\u001b[0m\n\u001b[0;31mSyntaxError\u001b[0m\u001b[0;31m:\u001b[0m illegal expression for augmented assignment\n"
       ]
      }
     ],
     "prompt_number": 4
    },
    {
     "cell_type": "code",
     "collapsed": false,
     "input": [
      "#6\n",
      "\n",
      "a = [1,2,3]\n",
      "b = [4,5,6,10]\n",
      "c = [7,8,9]\n",
      "\n",
      "d = [a,b,c]\n",
      "mySum = 0\n",
      "\n",
      "for list in d:\n",
      "    for number in list:\n",
      "        mySum += number\n",
      "        \n",
      "mySum\n",
      "    "
     ],
     "language": "python",
     "metadata": {},
     "outputs": [
      {
       "metadata": {},
       "output_type": "pyout",
       "prompt_number": 6,
       "text": [
        "55"
       ]
      }
     ],
     "prompt_number": 6
    },
    {
     "cell_type": "code",
     "collapsed": false,
     "input": [
      "#7\n",
      "\n",
      "myList = [-3,-2, 1, 4, -2, 11, 5, -2, 7, -22, 14, 3, -1]\n",
      "\n",
      "subSeqs = []\n",
      "sums = []\n",
      "iSub = 0\n",
      "\n",
      "for number in myList:\n",
      "    if number < 0:\n",
      "        iSub+=1\n",
      "        continue\n",
      "    while iSub > len(subSeqs) - 1:\n",
      "        subSeqs.append([])\n",
      "    subSeqs[iSub].append(number)\n",
      "    \n",
      "for sub in subSeqs:\n",
      "    sums.append(sum(sub))\n",
      "    \n",
      "print max(sums)"
     ],
     "language": "python",
     "metadata": {},
     "outputs": [
      {
       "output_type": "stream",
       "stream": "stdout",
       "text": [
        "17\n"
       ]
      }
     ],
     "prompt_number": 9
    },
    {
     "cell_type": "code",
     "collapsed": false,
     "input": [
      "#8 (INFINITE LOOP, DON'T RUN)\n",
      "\n",
      "# myList = [1,2,3]\n",
      "\n",
      "# for number in myList:\n",
      "#     myList.append(1)\n",
      "#     print myList"
     ],
     "language": "python",
     "metadata": {},
     "outputs": []
    },
    {
     "cell_type": "code",
     "collapsed": false,
     "input": [
      "#9\n",
      "\n",
      "myList = [1,1,2,3]\n",
      "newList = set(myList)\n",
      "\n",
      "print list(newList)"
     ],
     "language": "python",
     "metadata": {},
     "outputs": [
      {
       "output_type": "stream",
       "stream": "stdout",
       "text": [
        "[1, 2, 3]\n"
       ]
      }
     ],
     "prompt_number": 3
    },
    {
     "cell_type": "code",
     "collapsed": false,
     "input": [
      "#10\n",
      "# Remove any non-overlapping consecutive duplicate sequences of length 2\n",
      "\n",
      "myList = [3, 7, 34, 2, 1, 2, 1, 67, 3, 8, 3, 8] \n",
      "\n",
      "i = 0\n",
      "while i < len(myList) - 3:\n",
      "    if myList[i:i+2] == myList[i+2:i+4]:\n",
      "        del myList[i+2:i+4]\n",
      "    i+=1\n",
      "\n",
      "print myList"
     ],
     "language": "python",
     "metadata": {},
     "outputs": [
      {
       "output_type": "stream",
       "stream": "stdout",
       "text": [
        "[3, 7, 34, 2, 1, 67, 3, 8]\n"
       ]
      }
     ],
     "prompt_number": 5
    },
    {
     "cell_type": "code",
     "collapsed": false,
     "input": [
      "#11\n",
      "\n",
      "names = [\"Harry\", \"David\", \"Liz\", \"Nahid\", \"George\", \"Kayla\"]\n",
      "ages = [12,45,23,67,2,13]\n",
      "\n",
      "myDict = dict(zip(names,ages))\n",
      "print myDict"
     ],
     "language": "python",
     "metadata": {},
     "outputs": [
      {
       "output_type": "stream",
       "stream": "stdout",
       "text": [
        "{'Harry': 12, 'David': 45, 'Kayla': 13, 'Nahid': 67, 'George': 2, 'Liz': 23}\n"
       ]
      }
     ],
     "prompt_number": 8
    },
    {
     "cell_type": "code",
     "collapsed": false,
     "input": [
      "#12\n",
      "# from dict, return \n",
      "    # int: number of elements in dict, \n",
      "    # tuple of strings: types of keys used in dict\n",
      "    # tuple of strings: type of values contained within dict\n",
      "\n",
      "def analyzeDict(d):\n",
      "    keyTypes, valueTypes = set(), set()\n",
      "    for key,value in d.items():\n",
      "        keyTypes.add(type(key))\n",
      "        valueTypes.add(type(value))\n",
      "    return (len(d), tuple(keyTypes), tuple(valueTypes))\n",
      "\n",
      "myDict = {'Harry': \"Meowmix\", 1: 45, 'Kayla': [13,12], 'Nahid': 67, 'George': 2, 'Liz': 23}\n",
      "\n",
      "print analyzeDict(myDict)\n",
      "    "
     ],
     "language": "python",
     "metadata": {},
     "outputs": [
      {
       "output_type": "stream",
       "stream": "stdout",
       "text": [
        "(6, (<type 'int'>, <type 'str'>), (<type 'int'>, <type 'list'>, <type 'str'>))\n"
       ]
      }
     ],
     "prompt_number": 19
    },
    {
     "cell_type": "code",
     "collapsed": false,
     "input": [
      "#13\n",
      "\n",
      "def doubleDuplicates(L):\n",
      "    newList = L[:]\n",
      "    i, dupes = 0, 0\n",
      "    while i < len(L):\n",
      "        number = L[i]\n",
      "        if L.count(number) > 1:\n",
      "            newList.insert(i+dupes, number)\n",
      "            dupes+=1\n",
      "        i+=1\n",
      "    return newList\n",
      "\n",
      "myList = [1, 2, 1, 4, 2]\n",
      "print doubleDuplicates(myList)"
     ],
     "language": "python",
     "metadata": {},
     "outputs": [
      {
       "output_type": "stream",
       "stream": "stdout",
       "text": [
        "[1, 1, 2, 2, 1, 1, 4, 2, 2]\n"
       ]
      }
     ],
     "prompt_number": 5
    },
    {
     "cell_type": "code",
     "collapsed": false,
     "input": [
      "#15\n",
      "\n",
      "def findUniques(l1,l2,l3,l4):\n",
      "    myList = [number for sublist in [l1,l2,l3,l4] for number in sublist]\n",
      "    return [number for number in myList if myList.count(number) == 1]\n",
      "    \n",
      "print findUniques([1,2,3], [2,3,4], [5,32, 2], [30, 5, 1])"
     ],
     "language": "python",
     "metadata": {},
     "outputs": [
      {
       "output_type": "stream",
       "stream": "stdout",
       "text": [
        "[4, 32, 30]\n"
       ]
      }
     ],
     "prompt_number": 16
    },
    {
     "cell_type": "code",
     "collapsed": false,
     "input": [
      "#15\n",
      "\n",
      "def uniqueInts(a, b, c, d):\n",
      "    sets = [set(), set(), set(), set()]   #four empty sets....because {} is an empty dictionary\n",
      "    for i, lst in enumerate((a, b, c, d)):  #read up on the enumerate function\n",
      "        for el in lst:\n",
      "            if lst.count(el) == 1:\n",
      "                sets[i].add(el)\n",
      "    a,b,c,d = sets\n",
      "    return a ^ b ^ c ^ d\n",
      "    \n",
      "print uniqueInts([1,2,3], [2,3,4], [5,32, 2], [30, 5, 1])"
     ],
     "language": "python",
     "metadata": {},
     "outputs": [
      {
       "output_type": "stream",
       "stream": "stdout",
       "text": [
        "set([32, 2, 4, 30])\n"
       ]
      }
     ],
     "prompt_number": 17
    },
    {
     "cell_type": "code",
     "collapsed": false,
     "input": [
      "#16\n",
      "import string\n",
      "\n",
      "def sanitize(s):\n",
      "    return s.translate(string.maketrans(\"\",\"\"), string.punctuation)\n",
      "\n",
      "def removeDupes(s):\n",
      "    i = 0\n",
      "    myList = s.split(\" \")\n",
      "    while i < len(myList) - 1:\n",
      "        if myList[i][0] not in \"ABCDEFGHIJKLMNOPQRSTUVWXYZ\" \\\n",
      "            and sanitize(myList[i]) == sanitize(myList[i + 1]):\n",
      "                del myList[i]\n",
      "        i+=1\n",
      "    stringAgain = ' '.join(myList)\n",
      "    return stringAgain\n",
      "\n",
      "\n",
      "s = \"meow, meow please Please deliver please. please\"\n",
      "print removeDupes(s)"
     ],
     "language": "python",
     "metadata": {},
     "outputs": [
      {
       "output_type": "stream",
       "stream": "stdout",
       "text": [
        "meow please Please deliver please\n"
       ]
      }
     ],
     "prompt_number": 49
    },
    {
     "cell_type": "code",
     "collapsed": false,
     "input": [],
     "language": "python",
     "metadata": {},
     "outputs": [],
     "prompt_number": 49
    },
    {
     "cell_type": "code",
     "collapsed": false,
     "input": [],
     "language": "python",
     "metadata": {},
     "outputs": []
    }
   ],
   "metadata": {}
  }
 ]
}