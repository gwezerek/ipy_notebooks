{
 "metadata": {
  "name": "",
  "signature": "sha256:d46d3d7c27489d059f9d20b40bb2f3638123e84d5397450b51520dbebdeb82f0"
 },
 "nbformat": 3,
 "nbformat_minor": 0,
 "worksheets": [
  {
   "cells": [
    {
     "cell_type": "code",
     "collapsed": false,
     "input": [
      "import requests\n",
      "import pandas as pd\n",
      "import cPickle as pickle\n",
      "import itertools\n",
      "from time import strftime"
     ],
     "language": "python",
     "metadata": {},
     "outputs": [],
     "prompt_number": 169
    },
    {
     "cell_type": "code",
     "collapsed": false,
     "input": [
      "## The first time we run this we'll hit the API request limit and only have a semi-completed array\n",
      "## Pickle that partially completed file\n",
      "\n",
      "url = 'http://api.untappd.com/v4/search/beer'\n",
      "ourParams = {\n",
      "    'client_id':'C0B05557830DDCDF519E0979BBEC4DC7F9E6CB1D', \n",
      "    'client_secret':'29B78C7E0846640D4359CC691D2CD1145C5EF5AA',\n",
      "    'q':'pumpkin',\n",
      "    'limit': 50,\n",
      "    'offset': 0\n",
      "}\n",
      "\n",
      "def getPumpkinJSON(url, ourParams, jsonArr):\n",
      "    ourRequest = requests.get(url, params = ourParams)\n",
      "    found = ourRequest.json()['response']['found']\n",
      "    offsetIncrement = ourParams['limit']\n",
      "    jsonArr = []    \n",
      "    for offsetNum in range(0, found/offsetIncrement + 1):\n",
      "        ourParams['offset'] += offsetIncrement\n",
      "        ourRequest = requests.get(url, params = ourParams)\n",
      "        if ourRequest.status_code == 200:\n",
      "            r = ourRequest.json()['response']['beers']['items']\n",
      "            jsonArr.append(r)\n",
      "        else:\n",
      "            print(offsetNum, strftime(\"%Y-%m-%d %H:%M\"))\n",
      "            break\n",
      "    return jsonArr\n",
      "        \n",
      "arrayToSave = getPumpkinJSON(url, ourParams, [])\n",
      "print(len(arrayToSave))"
     ],
     "language": "python",
     "metadata": {},
     "outputs": [
      {
       "output_type": "stream",
       "stream": "stdout",
       "text": [
        "(97, '2014-09-25 15:50')\n",
        "97\n"
       ]
      }
     ],
     "prompt_number": 170
    },
    {
     "cell_type": "code",
     "collapsed": false,
     "input": [
      "## Pickle the first batch of JSON results\n",
      "jsonArrFileOut = open(\"jsonArrFile.txt\", \"wb\")\n",
      "pickle.dump(arrayToSave, jsonArrFileOut)\n",
      "jsonArrFileOut.close()"
     ],
     "language": "python",
     "metadata": {},
     "outputs": [],
     "prompt_number": 171
    },
    {
     "cell_type": "code",
     "collapsed": false,
     "input": [
      "## One hour later, we should open that pickled file\n",
      "jsonArrFileIn = open(\"jsonArrFile.txt\", \"rb\")\n",
      "jsonInProgress = pickle.load(jsonArrFileIn)\n",
      "jsonArrFileIn.close()"
     ],
     "language": "python",
     "metadata": {},
     "outputs": [],
     "prompt_number": 172
    },
    {
     "cell_type": "code",
     "collapsed": false,
     "input": [
      "## And set the first range() arg to the last printed offsetNum\n",
      "## As well as pass in the jsonInProgress array\n",
      "\n",
      "def getPumpkinJSON2(url, ourParams, jsonArr):\n",
      "    ourRequest = requests.get(url, params = ourParams)\n",
      "    found = ourRequest.json()['response']['found']\n",
      "    offsetIncrement = ourParams['limit']  \n",
      "    for offsetNum in range(97, found/offsetIncrement + 1):\n",
      "        ourParams['offset'] += offsetIncrement\n",
      "        ourRequest = requests.get(url, params = ourParams)\n",
      "        if ourRequest.status_code == 200:\n",
      "            r = ourRequest.json()['response']['beers']['items']\n",
      "            print(len(r))\n",
      "            jsonArr.append(r)\n",
      "        else:\n",
      "            print(offsetNum, strftime(\"%Y-%m-%d %H:%M\"))\n",
      "            break\n",
      "    return jsonArr\n",
      "        \n",
      "finalJSON = getPumpkinJSON2(url, ourParams, jsonInProgress)\n",
      "print(len(finalJSON))"
     ],
     "language": "python",
     "metadata": {},
     "outputs": [
      {
       "output_type": "stream",
       "stream": "stdout",
       "text": [
        "0\n",
        "0"
       ]
      },
      {
       "output_type": "stream",
       "stream": "stdout",
       "text": [
        "\n",
        "0"
       ]
      },
      {
       "output_type": "stream",
       "stream": "stdout",
       "text": [
        "\n",
        "0"
       ]
      },
      {
       "output_type": "stream",
       "stream": "stdout",
       "text": [
        "\n",
        "0"
       ]
      },
      {
       "output_type": "stream",
       "stream": "stdout",
       "text": [
        "\n",
        "0"
       ]
      },
      {
       "output_type": "stream",
       "stream": "stdout",
       "text": [
        "\n",
        "0"
       ]
      },
      {
       "output_type": "stream",
       "stream": "stdout",
       "text": [
        "\n",
        "0"
       ]
      },
      {
       "output_type": "stream",
       "stream": "stdout",
       "text": [
        "\n",
        "0"
       ]
      },
      {
       "output_type": "stream",
       "stream": "stdout",
       "text": [
        "\n",
        "0"
       ]
      },
      {
       "output_type": "stream",
       "stream": "stdout",
       "text": [
        "\n",
        "0"
       ]
      },
      {
       "output_type": "stream",
       "stream": "stdout",
       "text": [
        "\n",
        "0"
       ]
      },
      {
       "output_type": "stream",
       "stream": "stdout",
       "text": [
        "\n",
        "0"
       ]
      },
      {
       "output_type": "stream",
       "stream": "stdout",
       "text": [
        "\n",
        "0"
       ]
      },
      {
       "output_type": "stream",
       "stream": "stdout",
       "text": [
        "\n",
        "0"
       ]
      },
      {
       "output_type": "stream",
       "stream": "stdout",
       "text": [
        "\n",
        "0"
       ]
      },
      {
       "output_type": "stream",
       "stream": "stdout",
       "text": [
        "\n",
        "0"
       ]
      },
      {
       "output_type": "stream",
       "stream": "stdout",
       "text": [
        "\n",
        "0"
       ]
      },
      {
       "output_type": "stream",
       "stream": "stdout",
       "text": [
        "\n",
        "0"
       ]
      },
      {
       "output_type": "stream",
       "stream": "stdout",
       "text": [
        "\n",
        "0"
       ]
      },
      {
       "output_type": "stream",
       "stream": "stdout",
       "text": [
        "\n",
        "0"
       ]
      },
      {
       "output_type": "stream",
       "stream": "stdout",
       "text": [
        "\n",
        "0"
       ]
      },
      {
       "output_type": "stream",
       "stream": "stdout",
       "text": [
        "\n",
        "0"
       ]
      },
      {
       "output_type": "stream",
       "stream": "stdout",
       "text": [
        "\n",
        "0"
       ]
      },
      {
       "output_type": "stream",
       "stream": "stdout",
       "text": [
        "\n",
        "0"
       ]
      },
      {
       "output_type": "stream",
       "stream": "stdout",
       "text": [
        "\n",
        "147\n"
       ]
      }
     ],
     "prompt_number": 182
    },
    {
     "cell_type": "code",
     "collapsed": false,
     "input": [
      "## Pickle the finalJSON just to be safe\n",
      "jsonArrFileOut = open(\"jsonArrFile.txt\", \"wb\")\n",
      "pickle.dump(finalJSON, jsonArrFileOut)\n",
      "jsonArrFileOut.close()"
     ],
     "language": "python",
     "metadata": {},
     "outputs": [],
     "prompt_number": 175
    },
    {
     "cell_type": "code",
     "collapsed": false,
     "input": [
      "# Flatten our final list of json\n",
      "finalJSON = list(itertools.chain.from_iterable(arrayToSave))\n",
      "beerFrame = pd.io.json.json_normalize(finalJSON)\n",
      "beerFrame.info()"
     ],
     "language": "python",
     "metadata": {},
     "outputs": [
      {
       "output_type": "stream",
       "stream": "stdout",
       "text": [
        "<class 'pandas.core.frame.DataFrame'>\n",
        "Int64Index: 2278 entries, 0 to 2277\n",
        "Data columns (total 26 columns):\n",
        "beer.auth_rating                  2278 non-null int64\n",
        "beer.beer_abv                     2278 non-null float64\n",
        "beer.beer_description             2278 non-null object\n",
        "beer.beer_ibu                     2278 non-null int64\n",
        "beer.beer_label                   2278 non-null object\n",
        "beer.beer_name                    2278 non-null object\n",
        "beer.beer_style                   2278 non-null object\n",
        "beer.bid                          2278 non-null int64\n",
        "beer.created_at                   2278 non-null object\n",
        "beer.wish_list                    2278 non-null bool\n",
        "brewery.brewery_active            2278 non-null int64\n",
        "brewery.brewery_id                2278 non-null int64\n",
        "brewery.brewery_label             2278 non-null object\n",
        "brewery.brewery_name              2278 non-null object\n",
        "brewery.contact.facebook          2278 non-null object\n",
        "brewery.contact.instagram         2278 non-null object\n",
        "brewery.contact.twitter           2278 non-null object\n",
        "brewery.contact.url               2278 non-null object\n",
        "brewery.country_name              2278 non-null object\n",
        "brewery.location.brewery_city     2278 non-null object\n",
        "brewery.location.brewery_state    2278 non-null object\n",
        "brewery.location.lat              2278 non-null float64\n",
        "brewery.location.lng              2278 non-null float64\n",
        "checkin_count                     2278 non-null int64\n",
        "have_had                          2278 non-null bool\n",
        "your_count                        2278 non-null int64\n",
        "dtypes: bool(2), float64(3), int64(7), object(14)"
       ]
      }
     ],
     "prompt_number": 181
    },
    {
     "cell_type": "heading",
     "level": 2,
     "metadata": {},
     "source": [
      "beerFrame.head(4)"
     ]
    },
    {
     "cell_type": "code",
     "collapsed": false,
     "input": [
      "beerFrame.to_csv('/Users/Gus/Dropbox/FastCo/projects_static/untappd/pumpkinBeers_2.csv', encoding='utf-8')"
     ],
     "language": "python",
     "metadata": {},
     "outputs": [],
     "prompt_number": 177
    },
    {
     "cell_type": "code",
     "collapsed": false,
     "input": [],
     "language": "python",
     "metadata": {},
     "outputs": []
    }
   ],
   "metadata": {}
  }
 ]
}