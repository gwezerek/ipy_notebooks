{
 "metadata": {
  "name": "",
  "signature": "sha256:a2d2f990eb7dd84052f69d94ca2fed4366ad70571138c0eae03fdb80e3d1f3f4"
 },
 "nbformat": 3,
 "nbformat_minor": 0,
 "worksheets": [
  {
   "cells": [
    {
     "cell_type": "code",
     "collapsed": false,
     "input": [
      "print \"memmem\""
     ],
     "language": "python",
     "metadata": {},
     "outputs": [
      {
       "output_type": "stream",
       "stream": "stdout",
       "text": [
        "memmem\n"
       ]
      }
     ],
     "prompt_number": 1
    },
    {
     "cell_type": "code",
     "collapsed": false,
     "input": [
      "n=0\n",
      "\n",
      "while n<10:\n",
      "    print(n)\n",
      "    n += 1"
     ],
     "language": "python",
     "metadata": {},
     "outputs": []
    },
    {
     "cell_type": "code",
     "collapsed": false,
     "input": [
      "n=-10\n",
      "\n",
      "while n<21:\n",
      "    print(n)\n",
      "    n += 2"
     ],
     "language": "python",
     "metadata": {},
     "outputs": []
    },
    {
     "cell_type": "code",
     "collapsed": false,
     "input": [
      "print \"Hello iRobot\"\n",
      "\n",
      "response = input(\"What's your fave fruito? \")\n",
      "\n",
      "if response == \"apple\":\n",
      "    print(\"meow\")\n",
      "elif response == \"pear\":\n",
      "    print(\"gross\")\n",
      "else:\n",
      "    print \"whaaaa?\""
     ],
     "language": "python",
     "metadata": {},
     "outputs": [
      {
       "output_type": "stream",
       "stream": "stdout",
       "text": [
        "Hello iRobot\n"
       ]
      },
      {
       "name": "stdout",
       "output_type": "stream",
       "stream": "stdout",
       "text": [
        "What's your fave fruito? \"apple\"\n"
       ]
      },
      {
       "output_type": "stream",
       "stream": "stdout",
       "text": [
        "meow\n"
       ]
      }
     ],
     "prompt_number": 3
    },
    {
     "cell_type": "code",
     "collapsed": false,
     "input": [
      "while True:\n",
      "    if input(\"Keep going? \")==\"no\":\n",
      "        break"
     ],
     "language": "python",
     "metadata": {},
     "outputs": []
    },
    {
     "cell_type": "code",
     "collapsed": false,
     "input": [
      "n = 0\n",
      "while n<5:\n",
      "    n+= 1\n",
      "    if n == 1 or n == 5:\n",
      "        print \"X\"*5\n",
      "    else:\n",
      "        print \"X   X\""
     ],
     "language": "python",
     "metadata": {},
     "outputs": [
      {
       "output_type": "stream",
       "stream": "stdout",
       "text": [
        "XXXXX\n",
        "X   X\n",
        "X   X\n",
        "X   X\n",
        "XXXXX\n"
       ]
      }
     ],
     "prompt_number": 5
    },
    {
     "cell_type": "code",
     "collapsed": false,
     "input": [
      "a = 0\n",
      "while a<3:\n",
      "    b = 0\n",
      "    while b<5:\n",
      "        b+= 1\n",
      "        if b == 1 or b == 5:\n",
      "            print \"    \" * a + \"X\"*5\n",
      "        else:\n",
      "            print \"    \" * a + \"X   X\"\n",
      "    a += 1\n"
     ],
     "language": "python",
     "metadata": {},
     "outputs": [
      {
       "output_type": "stream",
       "stream": "stdout",
       "text": [
        "XXXXX\n",
        "X   X\n",
        "X   X\n",
        "X   X\n",
        "XXXXX\n",
        "    XXXXX\n",
        "    X   X\n",
        "    X   X\n",
        "    X   X\n",
        "    XXXXX\n",
        "        XXXXX\n",
        "        X   X\n",
        "        X   X\n",
        "        X   X\n",
        "        XXXXX\n"
       ]
      }
     ],
     "prompt_number": 2
    },
    {
     "cell_type": "code",
     "collapsed": false,
     "input": [
      "n = \"\"\"Take this paragraph question and embed it in your script as a triple quoted string. Using string methods, split it up into sentences, lowercase all of them, then put them back together as a single sentence using the join method and the string \u201c and \u201c. Capitalize the first letter of the resulting run-on.\"\"\"\n",
      "print n"
     ],
     "language": "python",
     "metadata": {},
     "outputs": [
      {
       "output_type": "stream",
       "stream": "stdout",
       "text": [
        "Take this paragraph question and embed it in your script as a triple quoted string. Using string methods, split it up into sentences, lowercase all of them, then put them back together as a single sentence using the join method and the string \u201c and \u201c. Capitalize the first letter of the resulting run-on.\n"
       ]
      }
     ],
     "prompt_number": 12
    },
    {
     "cell_type": "code",
     "collapsed": false,
     "input": [
      "n.split(\". \")"
     ],
     "language": "python",
     "metadata": {},
     "outputs": [
      {
       "metadata": {},
       "output_type": "pyout",
       "prompt_number": 13,
       "text": [
        "['Take this paragraph question and embed it in your script as a triple quoted string',\n",
        " 'Using string methods, split it up into sentences, lowercase all of them, then put them back together as a single sentence using the join method and the string \\xe2\\x80\\x9c and \\xe2\\x80\\x9c',\n",
        " 'Capitalize the first letter of the resulting run-on.']"
       ]
      }
     ],
     "prompt_number": 13
    },
    {
     "cell_type": "code",
     "collapsed": false,
     "input": [
      "print n"
     ],
     "language": "python",
     "metadata": {},
     "outputs": [
      {
       "output_type": "stream",
       "stream": "stdout",
       "text": [
        "Take this paragraph question and embed it in your script as a triple quoted string. Using string methods, split it up into sentences, lowercase all of them, then put them back together as a single sentence using the join method and the string \u201c and \u201c. Capitalize the first letter of the resulting run-on.\n"
       ]
      }
     ],
     "prompt_number": 14
    },
    {
     "cell_type": "code",
     "collapsed": false,
     "input": [
      "m = n.lower().split(\". \")\n",
      "concat = \" and \".join(m)\n",
      "meow = concat.capitalize()\n",
      "\n",
      "print meow"
     ],
     "language": "python",
     "metadata": {},
     "outputs": [
      {
       "output_type": "stream",
       "stream": "stdout",
       "text": [
        "Take this paragraph question and embed it in your script as a triple quoted string and using string methods, split it up into sentences, lowercase all of them, then put them back together as a single sentence using the join method and the string \u201c and \u201c and capitalize the first letter of the resulting run-on.\n"
       ]
      }
     ],
     "prompt_number": 22
    },
    {
     "cell_type": "code",
     "collapsed": false,
     "input": [
      "s = \"\"\"Take the paragraph forming this question and embed it in your script as a triple quoted string. Using string methods, put it to into title case (every word capitalized). Then create a list by splitting the string into separate words by splitting based on the space character. Then, use the random module to create random 3-word movie titles by using import random and then random.choice(myList) to successively add words to an empty string. This may best be done with a loop asking the user if they want a new title or if they want to end the program.\"\"\""
     ],
     "language": "python",
     "metadata": {},
     "outputs": [],
     "prompt_number": 2
    },
    {
     "cell_type": "code",
     "collapsed": false,
     "input": [
      "cappedS = s.title()\n",
      "print cappedS"
     ],
     "language": "python",
     "metadata": {},
     "outputs": [
      {
       "output_type": "stream",
       "stream": "stdout",
       "text": [
        "Take The Paragraph Forming This Question And Embed It In Your Script As A Triple Quoted String. Using String Methods, Put It To Into Title Case (Every Word Capitalized). Then Create A List By Splitting The String Into Separate Words By Splitting Based On The Space Character. Then, Use The Random Module To Create Random 3-Word Movie Titles By Using Import Random And Then Random.Choice(Mylist) To Successively Add Words To An Empty String. This May Best Be Done With A Loop Asking The User If They Want A New Title Or If They Want To End The Program.\n"
       ]
      }
     ],
     "prompt_number": 7
    },
    {
     "cell_type": "code",
     "collapsed": false,
     "input": [
      "listS = cappedS.split(\" \")\n",
      "print listS"
     ],
     "language": "python",
     "metadata": {},
     "outputs": [
      {
       "output_type": "stream",
       "stream": "stdout",
       "text": [
        "['Take', 'The', 'Paragraph', 'Forming', 'This', 'Question', 'And', 'Embed', 'It', 'In', 'Your', 'Script', 'As', 'A', 'Triple', 'Quoted', 'String.', 'Using', 'String', 'Methods,', 'Put', 'It', 'To', 'Into', 'Title', 'Case', '(Every', 'Word', 'Capitalized).', 'Then', 'Create', 'A', 'List', 'By', 'Splitting', 'The', 'String', 'Into', 'Separate', 'Words', 'By', 'Splitting', 'Based', 'On', 'The', 'Space', 'Character.', 'Then,', 'Use', 'The', 'Random', 'Module', 'To', 'Create', 'Random', '3-Word', 'Movie', 'Titles', 'By', 'Using', 'Import', 'Random', 'And', 'Then', 'Random.Choice(Mylist)', 'To', 'Successively', 'Add', 'Words', 'To', 'An', 'Empty', 'String.', 'This', 'May', 'Best', 'Be', 'Done', 'With', 'A', 'Loop', 'Asking', 'The', 'User', 'If', 'They', 'Want', 'A', 'New', 'Title', 'Or', 'If', 'They', 'Want', 'To', 'End', 'The', 'Program.']\n"
       ]
      }
     ],
     "prompt_number": 8
    },
    {
     "cell_type": "code",
     "collapsed": false,
     "input": [
      "import random\n",
      "\n",
      "while True:\n",
      "    title = random.choice(listS) + \" \" + random.choice(listS) + \" \" + random.choice(listS)\n",
      "    print title\n",
      "    if raw_input(\"Want another? \") == \"no\":\n",
      "        break"
     ],
     "language": "python",
     "metadata": {},
     "outputs": [
      {
       "output_type": "stream",
       "stream": "stdout",
       "text": [
        "A 3-Word Space\n"
       ]
      },
      {
       "name": "stdout",
       "output_type": "stream",
       "stream": "stdout",
       "text": [
        "Want another? yes\n"
       ]
      },
      {
       "output_type": "stream",
       "stream": "stdout",
       "text": [
        "By Then Put\n"
       ]
      },
      {
       "name": "stdout",
       "output_type": "stream",
       "stream": "stdout",
       "text": [
        "Want another? yes\n"
       ]
      },
      {
       "output_type": "stream",
       "stream": "stdout",
       "text": [
        "To With They\n"
       ]
      },
      {
       "name": "stdout",
       "output_type": "stream",
       "stream": "stdout",
       "text": [
        "Want another? no\n"
       ]
      }
     ],
     "prompt_number": 13
    },
    {
     "cell_type": "code",
     "collapsed": false,
     "input": [
      "\"\"\"Write a function containsXYZ(string) which returns True if the string contains either \u2018x\u2019 or \u2018y\u2019 or \u2018z\u2019 in upper or lower case, and False otherwise.\"\"\""
     ],
     "language": "python",
     "metadata": {},
     "outputs": [
      {
       "metadata": {},
       "output_type": "pyout",
       "prompt_number": 15,
       "text": [
        "'Write a function containsXYZ(string) which returns True if the string contains either \\xe2\\x80\\x98x\\xe2\\x80\\x99 or \\xe2\\x80\\x98y\\xe2\\x80\\x99 or \\xe2\\x80\\x98z\\xe2\\x80\\x99 in upper or lower case, and False otherwise.'"
       ]
      }
     ],
     "prompt_number": 15
    },
    {
     "cell_type": "code",
     "collapsed": false,
     "input": [
      "def containsXYZ(string):\n",
      "    string = string.lower()\n",
      "    return 'x' in string or 'y' in string or 'z' in string"
     ],
     "language": "python",
     "metadata": {},
     "outputs": [],
     "prompt_number": 16
    },
    {
     "cell_type": "code",
     "collapsed": false,
     "input": [
      "containsXYZ(\"meowmeow\")"
     ],
     "language": "python",
     "metadata": {},
     "outputs": [
      {
       "metadata": {},
       "output_type": "pyout",
       "prompt_number": 17,
       "text": [
        "False"
       ]
      }
     ],
     "prompt_number": 17
    },
    {
     "cell_type": "code",
     "collapsed": false,
     "input": [
      "def isPalindrome(string):\n",
      "    return string[::-1] == string\n",
      "        "
     ],
     "language": "python",
     "metadata": {},
     "outputs": [],
     "prompt_number": 18
    },
    {
     "cell_type": "code",
     "collapsed": false,
     "input": [
      "isPalindrome(\"zoz\")"
     ],
     "language": "python",
     "metadata": {},
     "outputs": [
      {
       "metadata": {},
       "output_type": "pyout",
       "prompt_number": 19,
       "text": [
        "True"
       ]
      }
     ],
     "prompt_number": 19
    },
    {
     "cell_type": "code",
     "collapsed": false,
     "input": [],
     "language": "python",
     "metadata": {},
     "outputs": []
    }
   ],
   "metadata": {}
  }
 ]
}