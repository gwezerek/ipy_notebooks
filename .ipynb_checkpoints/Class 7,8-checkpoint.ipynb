{
 "metadata": {
  "name": "",
  "signature": "sha256:a283f3c975cbb277d13b681fc51a07db048328eb0d41cb28d715a6cf33c22f0c"
 },
 "nbformat": 3,
 "nbformat_minor": 0,
 "worksheets": [
  {
   "cells": [
    {
     "cell_type": "code",
     "collapsed": false,
     "input": [
      "### MODULES"
     ],
     "language": "python",
     "metadata": {},
     "outputs": [],
     "prompt_number": 1
    },
    {
     "cell_type": "code",
     "collapsed": false,
     "input": [
      "## Generals tips for importing modules:\n",
      "## To access x in module\n",
      "    ## import module\n",
      "    ## module.x\n",
      "## Or\n",
      "    ## import module.x as x\n",
      "    ## x\n",
      "## But don't use\n",
      "    ## import x from module\n",
      "    ## Cuz then you'll end up with variable conflicts"
     ],
     "language": "python",
     "metadata": {},
     "outputs": [],
     "prompt_number": 17
    },
    {
     "cell_type": "code",
     "collapsed": false,
     "input": [
      "## If you put a triple-quoted line as the first line in a file, function or class\n",
      "## It becomes the __doc__ for that object, which usually describes what the code does\n",
      "## Always write docs!"
     ],
     "language": "python",
     "metadata": {},
     "outputs": [],
     "prompt_number": 18
    },
    {
     "cell_type": "code",
     "collapsed": false,
     "input": [
      "## Last, small thing:\n",
      "## if __name__ == \"__main__\": do this\n",
      "## Used to only run code if the code is running on its own (not imported as a module)"
     ],
     "language": "python",
     "metadata": {},
     "outputs": [],
     "prompt_number": 19
    },
    {
     "cell_type": "code",
     "collapsed": false,
     "input": [
      "## re\n",
      "import re"
     ],
     "language": "python",
     "metadata": {},
     "outputs": [],
     "prompt_number": 2
    },
    {
     "cell_type": "code",
     "collapsed": false,
     "input": [
      "## Python expresses regex patterns as strings\n",
      "## There are no preceding or trailing forward slashes\n",
      "## Use raw strings for regex patterns\n",
      "\n",
      "ourRaw = r\"Text\"\n",
      "\n",
      "## \"The raw string  r\u201c\\n\u201d is not a newline\u2026.it\u2019s two characters: a backslash and an \u2018n\u2019\""
     ],
     "language": "python",
     "metadata": {},
     "outputs": [],
     "prompt_number": 4
    },
    {
     "cell_type": "code",
     "collapsed": false,
     "input": [
      "## For regexp:\n",
      "# re.search(pattern,text)\n",
      "\n",
      "## Returns a Match object if the pattern is found\n",
      "## The Match object has nice methods such as .group(), .start() and .end()"
     ],
     "language": "python",
     "metadata": {},
     "outputs": [],
     "prompt_number": 6
    },
    {
     "cell_type": "code",
     "collapsed": false,
     "input": [
      "## BUT\n",
      "## re.search(patter,text) only refers the first match it finds\n",
      "## To return all of them, use re.finditer(pattern,text)"
     ],
     "language": "python",
     "metadata": {},
     "outputs": [],
     "prompt_number": 8
    },
    {
     "cell_type": "code",
     "collapsed": false,
     "input": [
      "## Other fun methods\n",
      "## re.findall(pattern, text) is like re.finditer() but it returns a list of strings, not a Match object\n",
      "## re.sub(pattern,replacement, text) (Replaces instances of pattern with replacement)"
     ],
     "language": "python",
     "metadata": {},
     "outputs": [],
     "prompt_number": 10
    },
    {
     "cell_type": "code",
     "collapsed": false,
     "input": [
      "## If you're using one regex over and over and over, use re.compile, which stores the compiled regex pattern\n",
      "## pattern = re.compile(r\u201cwhatever\u201d)\n",
      "## match = pattern.search(\u201ctext to be searched)\n",
      "\n",
      "## pattern object return by re.compile has all the methods discussed above, except they don't use the pattern argument"
     ],
     "language": "python",
     "metadata": {},
     "outputs": [],
     "prompt_number": 9
    },
    {
     "cell_type": "code",
     "collapsed": false,
     "input": [
      "## PPrint\n",
      "## Use it to pprint.pprint(object) where object is a nested array, for example\n",
      "import pprint"
     ],
     "language": "python",
     "metadata": {},
     "outputs": [],
     "prompt_number": 11
    },
    {
     "cell_type": "code",
     "collapsed": false,
     "input": [
      "## copy module\n",
      "import copy\n",
      "\n",
      "## Remember the problem with mutability and how easy it is to create an unintentional alias, for example:\n",
      "a = [1,2,3]\n",
      "b = a\n",
      "a.append(4)\n",
      "print(a)\n",
      "print(b)"
     ],
     "language": "python",
     "metadata": {},
     "outputs": [
      {
       "output_type": "stream",
       "stream": "stdout",
       "text": [
        "[1, 2, 3, 4]\n",
        "[1, 2, 3, 4]\n"
       ]
      }
     ],
     "prompt_number": 14
    },
    {
     "cell_type": "code",
     "collapsed": false,
     "input": [
      "## We tried to create a shallow copy with:\n",
      "b = a[:]\n",
      "\n",
      "## But if a had nested mutable objects, like lists, changing a's innards would still change b's innards\n",
      "## We can use the copy module's deepcopy function to make copies of everything in the original element:\n",
      "b = copy.deepcopy(a)\n",
      "print(a)\n",
      "print(b)\n",
      "a.append(\"meow\")\n",
      "print(a)\n",
      "print(b)"
     ],
     "language": "python",
     "metadata": {},
     "outputs": [
      {
       "output_type": "stream",
       "stream": "stdout",
       "text": [
        "[1, 2, 3, 4]\n",
        "[1, 2, 3, 4]\n",
        "[1, 2, 3, 4, 'meow']\n",
        "[1, 2, 3, 4]\n"
       ]
      }
     ],
     "prompt_number": 15
    },
    {
     "cell_type": "code",
     "collapsed": false,
     "input": [
      "# The pickle module\n",
      "import pickle\n",
      "\n",
      "# Helps serialize objects (like a list of cards), it \"pickles\" them and saves them for later\n",
      "# The json module is probably a better option"
     ],
     "language": "python",
     "metadata": {},
     "outputs": [],
     "prompt_number": 16
    },
    {
     "cell_type": "code",
     "collapsed": false,
     "input": [],
     "language": "python",
     "metadata": {},
     "outputs": [],
     "prompt_number": 16
    },
    {
     "cell_type": "code",
     "collapsed": false,
     "input": [],
     "language": "python",
     "metadata": {},
     "outputs": []
    }
   ],
   "metadata": {}
  }
 ]
}