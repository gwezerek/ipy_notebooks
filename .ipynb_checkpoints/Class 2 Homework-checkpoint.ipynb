{
 "metadata": {
  "name": "",
  "signature": "sha256:4726f115a7566908f33dd201f18d1b2a38670905738bb5954d4e4e193bbcc281"
 },
 "nbformat": 3,
 "nbformat_minor": 0,
 "worksheets": [
  {
   "cells": [
    {
     "cell_type": "code",
     "collapsed": false,
     "input": [
      "print \"memmem\""
     ],
     "language": "python",
     "metadata": {},
     "outputs": [
      {
       "output_type": "stream",
       "stream": "stdout",
       "text": [
        "memmem\n"
       ]
      }
     ],
     "prompt_number": 1
    },
    {
     "cell_type": "code",
     "collapsed": false,
     "input": [
      "n=0\n",
      "\n",
      "while n<10:\n",
      "    print(n)\n",
      "    n += 1"
     ],
     "language": "python",
     "metadata": {},
     "outputs": []
    },
    {
     "cell_type": "code",
     "collapsed": false,
     "input": [
      "n=-10\n",
      "\n",
      "while n<21:\n",
      "    print(n)\n",
      "    n += 2"
     ],
     "language": "python",
     "metadata": {},
     "outputs": []
    },
    {
     "cell_type": "code",
     "collapsed": false,
     "input": [
      "print \"Hello iRobot\"\n",
      "\n",
      "response = input(\"What's your fave fruito? \")\n",
      "\n",
      "if response == \"apple\":\n",
      "    print(\"meow\")\n",
      "elif response == \"pear\":\n",
      "    print(\"gross\")\n",
      "else:\n",
      "    print \"whaaaa?\""
     ],
     "language": "python",
     "metadata": {},
     "outputs": [
      {
       "output_type": "stream",
       "stream": "stdout",
       "text": [
        "Hello iRobot\n"
       ]
      },
      {
       "name": "stdout",
       "output_type": "stream",
       "stream": "stdout",
       "text": [
        "What's your fave fruito? \"apple\"\n"
       ]
      },
      {
       "output_type": "stream",
       "stream": "stdout",
       "text": [
        "meow\n"
       ]
      }
     ],
     "prompt_number": 3
    },
    {
     "cell_type": "code",
     "collapsed": false,
     "input": [
      "while True:\n",
      "    if input(\"Keep going? \")==\"no\":\n",
      "        break"
     ],
     "language": "python",
     "metadata": {},
     "outputs": []
    },
    {
     "cell_type": "code",
     "collapsed": false,
     "input": [
      "n = 1\n",
      "while n<6:\n",
      "    if n == 1 or n == 5:\n",
      "        print \"X\"*5\n",
      "    else:\n",
      "        print \"X   X\"\n",
      "    n+= 1"
     ],
     "language": "python",
     "metadata": {},
     "outputs": [
      {
       "output_type": "stream",
       "stream": "stdout",
       "text": [
        "XXXXX\n",
        "X   X\n",
        "X   X\n",
        "X   X\n",
        "XXXXX\n"
       ]
      }
     ],
     "prompt_number": 5
    },
    {
     "cell_type": "code",
     "collapsed": false,
     "input": [],
     "language": "python",
     "metadata": {},
     "outputs": []
    }
   ],
   "metadata": {}
  }
 ]
}