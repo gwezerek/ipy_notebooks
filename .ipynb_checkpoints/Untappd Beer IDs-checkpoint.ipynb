{
 "metadata": {
  "name": "",
  "signature": "sha256:155e9600a1d0140b90132c3ee911d474ebfa16c75e0e84a28efe2179e13d50bb"
 },
 "nbformat": 3,
 "nbformat_minor": 0,
 "worksheets": [
  {
   "cells": [
    {
     "cell_type": "code",
     "collapsed": false,
     "input": [
      "import requests\n",
      "import pandas as pd\n",
      "import cPickle as pickle\n",
      "import itertools\n",
      "import numpy\n",
      "import schedule\n",
      "import time"
     ],
     "language": "python",
     "metadata": {},
     "outputs": [],
     "prompt_number": 2
    },
    {
     "cell_type": "code",
     "collapsed": false,
     "input": [
      "## Open our final JSON\n",
      "beerFrame = pd.read_csv('/Users/Gus/Dropbox/FastCo/projects_static/untappd/pumpkinBeers.csv', encoding='utf-8')"
     ],
     "language": "python",
     "metadata": {},
     "outputs": [],
     "prompt_number": 35
    },
    {
     "cell_type": "code",
     "collapsed": false,
     "input": [
      "len(beerFrame)"
     ],
     "language": "python",
     "metadata": {},
     "outputs": [
      {
       "metadata": {},
       "output_type": "pyout",
       "prompt_number": 36,
       "text": [
        "2278"
       ]
      }
     ],
     "prompt_number": 36
    },
    {
     "cell_type": "code",
     "collapsed": false,
     "input": [
      "## Get the first 100 beer.bid from the beerFrame\n",
      "## Run the correct API search for that beer\n",
      "## Store the resulting JSON in an array\n",
      "## Repeat an hour after the first batch finished with the next batch\n",
      "\n",
      "latest = 0\n",
      "beerJSON = {[]}\n",
      "url = 'http://api.untappd.com/v4/beer/info/'\n",
      "ourParams = {\n",
      "    'client_id':'C0B05557830DDCDF519E0979BBEC4DC7F9E6CB1D', \n",
      "    'client_secret':'29B78C7E0846640D4359CC691D2CD1145C5EF5AA'\n",
      "}\n",
      "\n",
      "def getVintages(r):\n",
      "    vintArr = []\n",
      "    if len(r['vintages']['items']) > 0:\n",
      "        for beer in r['vintages']['items']:\n",
      "            vintArr.append(beer['beer']['bid'])\n",
      "        return vintArr\n",
      "    else: \n",
      "        return None\n",
      "\n",
      "def getBeerRating():\n",
      "    global latest, beerJSON\n",
      "    for beer in  range(0, len(beerFrame)):\n",
      "        beerID = beerFrame['beer.bid'][latest]\n",
      "        ourRequest = requests.get(url + str(beerID), params = ourParams)\n",
      "        if ourRequest.status_code == 200:\n",
      "            r = ourRequest.json()['response']['beer']\n",
      "            singleBeer = {\n",
      "                'bid' = r['bid'],\n",
      "                'beer_name' = r['beer_name'],\n",
      "                'is_in_production' = r['is_in_production'],\n",
      "                'is_homebrew' = r['is_homebrew'],\n",
      "                'rating_count' = r['rating_count'],\n",
      "                'rating_score' = r['rating_score'],\n",
      "                'vintages' = getVintages(r)\n",
      "            }\n",
      "            beerJSON.append(singleBeer)\n",
      "            latest += 1\n",
      "        else:\n",
      "            print(latest, strftime(\"%Y-%m-%d %H:%M\"))\n",
      "            time.sleep(3600)\n",
      "    return beerJSON\n",
      "        \n",
      "finalBeerJSON = getBeerRating()\n",
      "finalBeerJSON"
     ],
     "language": "python",
     "metadata": {},
     "outputs": [
      {
       "output_type": "stream",
       "stream": "stdout",
       "text": [
        "http://api.untappd.com/v4/beer/info/8157?client_secret=29B78C7E0846640D4359CC691D2CD1145C5EF5AA&client_id=C0B05557830DDCDF519E0979BBEC4DC7F9E6CB1D\n"
       ]
      }
     ],
     "prompt_number": 24
    },
    {
     "cell_type": "code",
     "collapsed": false,
     "input": [],
     "language": "python",
     "metadata": {},
     "outputs": [
      {
       "ename": "NameError",
       "evalue": "name 'ourRequest' is not defined",
       "output_type": "pyerr",
       "traceback": [
        "\u001b[0;31m---------------------------------------------------------------------------\u001b[0m\n\u001b[0;31mNameError\u001b[0m                                 Traceback (most recent call last)",
        "\u001b[0;32m<ipython-input-15-5e7b2e1a1174>\u001b[0m in \u001b[0;36m<module>\u001b[0;34m()\u001b[0m\n\u001b[0;32m----> 1\u001b[0;31m \u001b[0;32mprint\u001b[0m\u001b[0;34m(\u001b[0m\u001b[0mourRequest\u001b[0m\u001b[0;34m.\u001b[0m\u001b[0murl\u001b[0m\u001b[0;34m)\u001b[0m\u001b[0;34m\u001b[0m\u001b[0m\n\u001b[0m",
        "\u001b[0;31mNameError\u001b[0m: name 'ourRequest' is not defined"
       ]
      }
     ],
     "prompt_number": 15
    },
    {
     "cell_type": "code",
     "collapsed": false,
     "input": [],
     "language": "python",
     "metadata": {},
     "outputs": []
    }
   ],
   "metadata": {}
  }
 ]
}