{
 "metadata": {
  "name": "",
  "signature": "sha256:119619977b72be1c2952628080c685481430bce611583cd441b29efc3407de97"
 },
 "nbformat": 3,
 "nbformat_minor": 0,
 "worksheets": [
  {
   "cells": [
    {
     "cell_type": "code",
     "collapsed": false,
     "input": [
      "import requests\n",
      "import pandas as pd\n",
      "import cPickle as pickle\n",
      "import itertools\n",
      "import numpy\n",
      "import schedule\n",
      "import time"
     ],
     "language": "python",
     "metadata": {},
     "outputs": [],
     "prompt_number": 207
    },
    {
     "cell_type": "code",
     "collapsed": false,
     "input": [
      "## The first time we run this we'll hit the API request limit and only have a semi-completed array\n",
      "## Pickle that partially completed file\n",
      "\n",
      "url = 'http://api.untappd.com/v4/search/beer'\n",
      "ourParams = {\n",
      "    'client_id':'C0B05557830DDCDF519E0979BBEC4DC7F9E6CB1D', \n",
      "    'client_secret':'29B78C7E0846640D4359CC691D2CD1145C5EF5AA',\n",
      "    'q':'pumpkin',\n",
      "    'limit': 50,\n",
      "    'offset': 0\n",
      "}\n",
      "\n",
      "def getPumpkinJSON(url, ourParams, jsonArr):\n",
      "    ourRequest = requests.get(url, params = ourParams)\n",
      "    found = ourRequest.json()['response']['found']\n",
      "    offsetIncrement = ourParams['limit']\n",
      "    jsonArr = []\n",
      "    chunkLengths = []\n",
      "    for offsetNum in range(0, found/offsetIncrement + 1):\n",
      "        ourParams['offset'] += offsetIncrement\n",
      "        ourRequest = requests.get(url, params = ourParams)\n",
      "        if ourRequest.status_code == 200:\n",
      "            r = ourRequest.json()['response']['beers']['items']\n",
      "            chunkLengths.append(len(r))\n",
      "            jsonArr.append(r)\n",
      "        else:\n",
      "            print(offsetNum, time.strftime(\"%Y-%m-%d %H:%M\"))\n",
      "            break\n",
      "    return jsonArr, chunkLengths\n",
      "        \n",
      "arrayToSave, chunkLengths = getPumpkinJSON(url, ourParams, [])"
     ],
     "language": "python",
     "metadata": {},
     "outputs": [
      {
       "output_type": "stream",
       "stream": "stdout",
       "text": [
        "(100, '2014-09-27 18:23')\n"
       ]
      }
     ],
     "prompt_number": 188
    },
    {
     "cell_type": "code",
     "collapsed": false,
     "input": [
      "## Should equal the offset num printed above\n",
      "print(len(chunkLengths))\n",
      "\n",
      "## To see if we're actually getting back 50 beers each time\n",
      "print(chunkLengths)\n",
      "\n",
      "## The total number of beers we pulled in that pass\n",
      "print(numpy.sum(chunkLengths))"
     ],
     "language": "python",
     "metadata": {},
     "outputs": [
      {
       "output_type": "stream",
       "stream": "stdout",
       "text": [
        "100\n",
        "[50, 50, 49, 49, 50, 50, 50, 50, 48, 49, 49, 49, 49, 45, 48, 42, 45, 40, 38, 31, 32, 28, 30, 30, 31, 26, 34, 22, 27, 26, 30, 23, 19, 30, 18, 29, 23, 23, 27, 20, 24, 22, 24, 17, 21, 11, 20, 15, 25, 17, 13, 25, 20, 12, 21, 25, 11, 12, 16, 24, 10, 15, 24, 17, 4, 10, 17, 6, 34, 16, 10, 14, 9, 36, 5, 3, 0, 5, 9, 12, 11, 25, 10, 5, 5, 8, 10, 8, 4, 14, 22, 5, 6, 8, 11, 12, 28, 21, 32, 35]\n",
        "2370\n"
       ]
      }
     ],
     "prompt_number": 189
    },
    {
     "cell_type": "code",
     "collapsed": false,
     "input": [
      "## Let's test if we're getting less results because we're pinging too often, \n",
      "## or because the API is weird\n",
      "newOffset = chunkLengths.index(3) * 50\n",
      "\n",
      "ourParams['offset'] = newOffset\n",
      "\n",
      "ourRequest = requests.get(url, params = ourParams)\n",
      "print(ourRequest.status_code)\n",
      "r = ourRequest.json()['response']['beers']['items']\n",
      "print(r)"
     ],
     "language": "python",
     "metadata": {},
     "outputs": [
      {
       "output_type": "stream",
       "stream": "stdout",
       "text": [
        "200\n",
        "[{u'checkin_count': 1, u'beer': {u'auth_rating': 0, u'beer_description': u'', u'bid': 241908, u'beer_style': u'Sour Ale', u'beer_ibu': 30, u'wish_list': False, u'beer_label': u'https://d1c8v1qci5en44.cloudfront.net/site/assets/images/temp/badge-beer-default.png', u'created_at': u'Sat, 06 Oct 2012 18:27:52 +0000', u'beer_abv': 6, u'beer_name': u'Cross Eyed And Pumpkin'}, u'your_count': 0, u'have_had': False, u'brewery': {u'brewery_id': 41708, u'brewery_active': 1, u'brewery_name': u'Phestival Barrel House', u'contact': {u'url': u'', u'twitter': u'', u'facebook': u'', u'instagram': u''}, u'brewery_label': u'https://d1c8v1qci5en44.cloudfront.net/site/brewery_logos/brewery-PhestivalBarrelHouse_41708_4a094.jpeg', u'location': {u'brewery_city': u'Moorpark', u'brewery_state': u'CA', u'lng': -118.871, u'lat': 34.2827}, u'country_name': u'United States'}}, {u'checkin_count': 1, u'beer': {u'auth_rating': 0, u'beer_description': u'', u'bid': 255585, u'beer_style': u'Pumpkin / Yam Beer', u'beer_ibu': 0, u'wish_list': False, u'beer_label': u'https://d1c8v1qci5en44.cloudfront.net/site/assets/images/temp/badge-beer-default.png', u'created_at': u'Wed, 31 Oct 2012 04:41:23 +0000', u'beer_abv': 4.5, u'beer_name': u'Pumpkin Ale'}, u'your_count': 0, u'have_had': False, u'brewery': {u'brewery_id': 16579, u'brewery_active': 1, u'brewery_name': u'Green Mill ', u'contact': {u'url': u'http://www.greenmillbrewery.co.uk', u'twitter': u'', u'facebook': u'', u'instagram': u''}, u'brewery_label': u'https://d1c8v1qci5en44.cloudfront.net/site/brewery_logos/brewery-GreenMill_16579.jpeg', u'location': {u'brewery_city': u'Rochdale', u'brewery_state': u'Greater Manchester, OL16 1UA', u'lng': -2.15354, u'lat': 53.6148}, u'country_name': u'England'}}, {u'checkin_count': 1, u'beer': {u'auth_rating': 0, u'beer_description': u'Pumpkin stout', u'bid': 260774, u'beer_style': u'Stout', u'beer_ibu': 70, u'wish_list': False, u'beer_label': u'https://d1c8v1qci5en44.cloudfront.net/site/assets/images/temp/badge-beer-default.png', u'created_at': u'Sat, 10 Nov 2012 08:27:42 +0000', u'beer_abv': 8, u'beer_name': u'Double Pumpkin Stout'}, u'your_count': 0, u'have_had': False, u'brewery': {u'brewery_id': 44806, u'brewery_active': 1, u'brewery_name': u'Royal Troon Distillery', u'contact': {u'url': u'', u'twitter': u'', u'facebook': u'', u'instagram': u''}, u'brewery_label': u'https://d1c8v1qci5en44.cloudfront.net/site/assets/images/temp/badge-brewery-default.png', u'location': {u'brewery_city': u'', u'brewery_state': u'', u'lng': 0, u'lat': 0}, u'country_name': u'United States'}}, {u'checkin_count': 1, u'beer': {u'auth_rating': 0, u'beer_description': u'', u'bid': 268563, u'beer_style': u'English Bitter', u'beer_ibu': 0, u'wish_list': False, u'beer_label': u'https://d1c8v1qci5en44.cloudfront.net/site/assets/images/temp/badge-beer-default.png', u'created_at': u'Sat, 24 Nov 2012 10:00:17 +0000', u'beer_abv': 5.1, u'beer_name': u'Thumpin Pumpkin'}, u'your_count': 0, u'have_had': False, u'brewery': {u'brewery_id': 4143, u'brewery_active': 1, u'brewery_name': u'Hornbeam', u'contact': {u'url': u'http://www.hornbeambrewery.com', u'twitter': u'HornbeamBrewery', u'facebook': u'http://www.facebook.com/Hornbeambrewery', u'instagram': u''}, u'brewery_label': u'https://d1c8v1qci5en44.cloudfront.net/site/brewery_logos/brewery-Hornbeam_4143.jpeg', u'location': {u'brewery_city': u'Denton', u'brewery_state': u'Greater Manchester, M34 3RU', u'lng': -2.12579, u'lat': 53.4552}, u'country_name': u'England'}}, {u'checkin_count': 1, u'beer': {u'auth_rating': 0, u'beer_description': u'', u'bid': 268505, u'beer_style': u'Pumpkin / Yam Beer', u'beer_ibu': 0, u'wish_list': False, u'beer_label': u'https://d1c8v1qci5en44.cloudfront.net/site/assets/images/temp/badge-beer-default.png', u'created_at': u'Sat, 24 Nov 2012 07:55:09 +0000', u'beer_abv': 0, u'beer_name': u'Pumpkin Pale Ale'}, u'your_count': 0, u'have_had': False, u'brewery': {u'brewery_id': 25327, u'brewery_active': 1, u'brewery_name': u'Lost River Brewing Company', u'contact': {u'url': u'http://www.lostriverbrewing.com/', u'twitter': u'', u'facebook': u'', u'instagram': u''}, u'brewery_label': u'https://d1c8v1qci5en44.cloudfront.net/site/brewery_logos/brewery-LostRiverBrewingCo_25327_e2e13.jpeg', u'location': {u'brewery_city': u'Wardensville', u'brewery_state': u'WV', u'lng': -78.597, u'lat': 39.0757}, u'country_name': u'United States'}}]\n"
       ]
      }
     ],
     "prompt_number": 195
    },
    {
     "cell_type": "code",
     "collapsed": false,
     "input": [
      "len(r)"
     ],
     "language": "python",
     "metadata": {},
     "outputs": [
      {
       "metadata": {},
       "output_type": "pyout",
       "prompt_number": 196,
       "text": [
        "5"
       ]
      }
     ],
     "prompt_number": 196
    },
    {
     "cell_type": "code",
     "collapsed": false,
     "input": [
      "## Alright, so the API isn't consistent\n",
      "## 1. We could take the df I just got and add it to the df we already have and check for dupes\n",
      "## 2. We could add an interval between requests in case that's a factor\n",
      "## Given our final goals, let's do #1"
     ],
     "language": "python",
     "metadata": {},
     "outputs": []
    },
    {
     "cell_type": "code",
     "collapsed": false,
     "input": [
      "## Pickle the first batch of JSON results\n",
      "jsonArrFileOut = open(\"jsonArrFile.txt\", \"wb\")\n",
      "pickle.dump(arrayToSave, jsonArrFileOut)\n",
      "jsonArrFileOut.close()"
     ],
     "language": "python",
     "metadata": {},
     "outputs": [],
     "prompt_number": 190
    },
    {
     "cell_type": "code",
     "collapsed": false,
     "input": [
      "## One hour later, we should open that pickled file\n",
      "jsonArrFileIn = open(\"jsonArrFile.txt\", \"rb\")\n",
      "jsonInProgress = pickle.load(jsonArrFileIn)\n",
      "jsonArrFileIn.close()"
     ],
     "language": "python",
     "metadata": {},
     "outputs": [],
     "prompt_number": 198
    },
    {
     "cell_type": "code",
     "collapsed": false,
     "input": [
      "## And set the first range() arg to the last printed offsetNum\n",
      "## As well as pass in the jsonInProgress array\n",
      "\n",
      "def getPumpkinJSON2(url, ourParams, jsonArr):\n",
      "    ourRequest = requests.get(url, params = ourParams)\n",
      "    found = ourRequest.json()['response']['found']\n",
      "    offsetIncrement = ourParams['limit']  \n",
      "    for offsetNum in range(100, found/offsetIncrement + 1):\n",
      "        ourParams['offset'] += offsetIncrement\n",
      "        ourRequest = requests.get(url, params = ourParams)\n",
      "        if ourRequest.status_code == 200:\n",
      "            r = ourRequest.json()['response']['beers']['items']\n",
      "            print(len(r))\n",
      "            jsonArr.append(r)\n",
      "        else:\n",
      "            print(offsetNum, strftime(\"%Y-%m-%d %H:%M\"))\n",
      "            break\n",
      "    return jsonArr\n",
      "        \n",
      "finalJSON = getPumpkinJSON2(url, ourParams, jsonInProgress)\n",
      "print(len(finalJSON))"
     ],
     "language": "python",
     "metadata": {},
     "outputs": [
      {
       "output_type": "stream",
       "stream": "stdout",
       "text": [
        "3\n",
        "0"
       ]
      },
      {
       "output_type": "stream",
       "stream": "stdout",
       "text": [
        "\n",
        "5"
       ]
      },
      {
       "output_type": "stream",
       "stream": "stdout",
       "text": [
        "\n",
        "9"
       ]
      },
      {
       "output_type": "stream",
       "stream": "stdout",
       "text": [
        "\n",
        "12"
       ]
      },
      {
       "output_type": "stream",
       "stream": "stdout",
       "text": [
        "\n",
        "11"
       ]
      },
      {
       "output_type": "stream",
       "stream": "stdout",
       "text": [
        "\n",
        "25"
       ]
      },
      {
       "output_type": "stream",
       "stream": "stdout",
       "text": [
        "\n",
        "10"
       ]
      },
      {
       "output_type": "stream",
       "stream": "stdout",
       "text": [
        "\n",
        "5"
       ]
      },
      {
       "output_type": "stream",
       "stream": "stdout",
       "text": [
        "\n",
        "5"
       ]
      },
      {
       "output_type": "stream",
       "stream": "stdout",
       "text": [
        "\n",
        "8"
       ]
      },
      {
       "output_type": "stream",
       "stream": "stdout",
       "text": [
        "\n",
        "10"
       ]
      },
      {
       "output_type": "stream",
       "stream": "stdout",
       "text": [
        "\n",
        "8"
       ]
      },
      {
       "output_type": "stream",
       "stream": "stdout",
       "text": [
        "\n",
        "4"
       ]
      },
      {
       "output_type": "stream",
       "stream": "stdout",
       "text": [
        "\n",
        "24"
       ]
      },
      {
       "output_type": "stream",
       "stream": "stdout",
       "text": [
        "\n",
        "11"
       ]
      },
      {
       "output_type": "stream",
       "stream": "stdout",
       "text": [
        "\n",
        "5"
       ]
      },
      {
       "output_type": "stream",
       "stream": "stdout",
       "text": [
        "\n",
        "6"
       ]
      },
      {
       "output_type": "stream",
       "stream": "stdout",
       "text": [
        "\n",
        "8"
       ]
      },
      {
       "output_type": "stream",
       "stream": "stdout",
       "text": [
        "\n",
        "11"
       ]
      },
      {
       "output_type": "stream",
       "stream": "stdout",
       "text": [
        "\n",
        "12"
       ]
      },
      {
       "output_type": "stream",
       "stream": "stdout",
       "text": [
        "\n",
        "23"
       ]
      },
      {
       "output_type": "stream",
       "stream": "stdout",
       "text": [
        "\n",
        "21"
       ]
      },
      {
       "output_type": "stream",
       "stream": "stdout",
       "text": [
        "\n",
        "35"
       ]
      },
      {
       "output_type": "stream",
       "stream": "stdout",
       "text": [
        "\n",
        "124\n"
       ]
      }
     ],
     "prompt_number": 199
    },
    {
     "cell_type": "code",
     "collapsed": false,
     "input": [
      "## Pickle the finalJSON just to be safe\n",
      "jsonArrFileOut = open(\"jsonArrFile.txt\", \"wb\")\n",
      "pickle.dump(finalJSON, jsonArrFileOut)\n",
      "jsonArrFileOut.close()"
     ],
     "language": "python",
     "metadata": {},
     "outputs": [],
     "prompt_number": 200
    },
    {
     "cell_type": "code",
     "collapsed": false,
     "input": [
      "# Flatten our final list of json\n",
      "finalJSON = list(itertools.chain.from_iterable(arrayToSave))\n",
      "beerFrame = pd.io.json.json_normalize(finalJSON)\n",
      "beerFrame.info()"
     ],
     "language": "python",
     "metadata": {},
     "outputs": [
      {
       "output_type": "stream",
       "stream": "stdout",
       "text": [
        "<class 'pandas.core.frame.DataFrame'>\n",
        "Int64Index: 2278 entries, 0 to 2277\n",
        "Data columns (total 26 columns):\n",
        "beer.auth_rating                  2278 non-null int64\n",
        "beer.beer_abv                     2278 non-null float64\n",
        "beer.beer_description             2278 non-null object\n",
        "beer.beer_ibu                     2278 non-null int64\n",
        "beer.beer_label                   2278 non-null object\n",
        "beer.beer_name                    2278 non-null object\n",
        "beer.beer_style                   2278 non-null object\n",
        "beer.bid                          2278 non-null int64\n",
        "beer.created_at                   2278 non-null object\n",
        "beer.wish_list                    2278 non-null bool\n",
        "brewery.brewery_active            2278 non-null int64\n",
        "brewery.brewery_id                2278 non-null int64\n",
        "brewery.brewery_label             2278 non-null object\n",
        "brewery.brewery_name              2278 non-null object\n",
        "brewery.contact.facebook          2278 non-null object\n",
        "brewery.contact.instagram         2278 non-null object\n",
        "brewery.contact.twitter           2278 non-null object\n",
        "brewery.contact.url               2278 non-null object\n",
        "brewery.country_name              2278 non-null object\n",
        "brewery.location.brewery_city     2278 non-null object\n",
        "brewery.location.brewery_state    2278 non-null object\n",
        "brewery.location.lat              2278 non-null float64\n",
        "brewery.location.lng              2278 non-null float64\n",
        "checkin_count                     2278 non-null int64\n",
        "have_had                          2278 non-null bool\n",
        "your_count                        2278 non-null int64\n",
        "dtypes: bool(2), float64(3), int64(7), object(14)"
       ]
      }
     ],
     "prompt_number": 181
    },
    {
     "cell_type": "code",
     "collapsed": false,
     "input": [
      "## Alright, so the numbers don't add up\n",
      "## But the 2278 count is the same as before, so I think this is everything"
     ],
     "language": "python",
     "metadata": {},
     "outputs": []
    },
    {
     "cell_type": "code",
     "collapsed": false,
     "input": [
      "beerFrame.head(4)"
     ],
     "language": "python",
     "metadata": {},
     "outputs": [
      {
       "html": [
        "<div style=\"max-height:1000px;max-width:1500px;overflow:auto;\">\n",
        "<table border=\"1\" class=\"dataframe\">\n",
        "  <thead>\n",
        "    <tr style=\"text-align: right;\">\n",
        "      <th></th>\n",
        "      <th>beer.auth_rating</th>\n",
        "      <th>beer.beer_abv</th>\n",
        "      <th>beer.beer_description</th>\n",
        "      <th>beer.beer_ibu</th>\n",
        "      <th>beer.beer_label</th>\n",
        "      <th>beer.beer_name</th>\n",
        "      <th>beer.beer_style</th>\n",
        "      <th>beer.bid</th>\n",
        "      <th>beer.created_at</th>\n",
        "      <th>beer.wish_list</th>\n",
        "      <th>brewery.brewery_active</th>\n",
        "      <th>brewery.brewery_id</th>\n",
        "      <th>brewery.brewery_label</th>\n",
        "      <th>brewery.brewery_name</th>\n",
        "      <th>brewery.contact.facebook</th>\n",
        "      <th>brewery.contact.instagram</th>\n",
        "      <th>brewery.contact.twitter</th>\n",
        "      <th>brewery.contact.url</th>\n",
        "      <th>brewery.country_name</th>\n",
        "      <th>brewery.location.brewery_city</th>\n",
        "      <th></th>\n",
        "    </tr>\n",
        "  </thead>\n",
        "  <tbody>\n",
        "    <tr>\n",
        "      <th>0</th>\n",
        "      <td> 0</td>\n",
        "      <td> 5.9</td>\n",
        "      <td> Packed with real pumpkins, hints of spice and ...</td>\n",
        "      <td> 0</td>\n",
        "      <td> https://d1c8v1qci5en44.cloudfront.net/site/bee...</td>\n",
        "      <td>                  La Parcela</td>\n",
        "      <td>     Pumpkin / Yam Beer</td>\n",
        "      <td>   8157</td>\n",
        "      <td> Tue, 09 Nov 2010 09:01:05 +0000</td>\n",
        "      <td> False</td>\n",
        "      <td> 1</td>\n",
        "      <td>  723</td>\n",
        "      <td> https://d1c8v1qci5en44.cloudfront.net/site/bre...</td>\n",
        "      <td>               Jolly Pumpkin Artisan Ales</td>\n",
        "      <td> http://www.facebook.com/pages/Jolly-Pumpkin-Ar...</td>\n",
        "      <td> </td>\n",
        "      <td> jollypumpkin</td>\n",
        "      <td> http://www.jollypumpkin.com/artisanales/Defaul...</td>\n",
        "      <td> United States</td>\n",
        "      <td>       Dexter</td>\n",
        "      <td>...</td>\n",
        "    </tr>\n",
        "    <tr>\n",
        "      <th>1</th>\n",
        "      <td> 0</td>\n",
        "      <td> 6.0</td>\n",
        "      <td>                                                  </td>\n",
        "      <td> 0</td>\n",
        "      <td> https://d1c8v1qci5en44.cloudfront.net/site/bee...</td>\n",
        "      <td>              Jaw-Jacker Ale</td>\n",
        "      <td>     Pumpkin / Yam Beer</td>\n",
        "      <td>  77548</td>\n",
        "      <td> Thu, 08 Sep 2011 18:15:47 +0000</td>\n",
        "      <td> False</td>\n",
        "      <td> 1</td>\n",
        "      <td>   47</td>\n",
        "      <td> https://d1c8v1qci5en44.cloudfront.net/site/bre...</td>\n",
        "      <td>   Arcadia Brewing Company (Arcadia Ales)</td>\n",
        "      <td>               http://www.facebook.com/arcadiaales</td>\n",
        "      <td> </td>\n",
        "      <td>  ArcadiaAles</td>\n",
        "      <td>                       http://www.arcadiaales.com/</td>\n",
        "      <td> United States</td>\n",
        "      <td> Battle Creek</td>\n",
        "      <td>...</td>\n",
        "    </tr>\n",
        "    <tr>\n",
        "      <th>2</th>\n",
        "      <td> 0</td>\n",
        "      <td> 6.8</td>\n",
        "      <td> Ale Brewed with Rose Hips, Rose Petals, and Hi...</td>\n",
        "      <td> 0</td>\n",
        "      <td> https://d1c8v1qci5en44.cloudfront.net/site/bee...</td>\n",
        "      <td>   Baudelaire Beer iO Saison</td>\n",
        "      <td> Saison / Farmhouse Ale</td>\n",
        "      <td>  35297</td>\n",
        "      <td> Sat, 05 Mar 2011 18:04:15 +0000</td>\n",
        "      <td> False</td>\n",
        "      <td> 1</td>\n",
        "      <td>  723</td>\n",
        "      <td> https://d1c8v1qci5en44.cloudfront.net/site/bre...</td>\n",
        "      <td>               Jolly Pumpkin Artisan Ales</td>\n",
        "      <td> http://www.facebook.com/pages/Jolly-Pumpkin-Ar...</td>\n",
        "      <td> </td>\n",
        "      <td> jollypumpkin</td>\n",
        "      <td> http://www.jollypumpkin.com/artisanales/Defaul...</td>\n",
        "      <td> United States</td>\n",
        "      <td>       Dexter</td>\n",
        "      <td>...</td>\n",
        "    </tr>\n",
        "    <tr>\n",
        "      <th>3</th>\n",
        "      <td> 0</td>\n",
        "      <td> 4.0</td>\n",
        "      <td> Two traditions are brought together here in a ...</td>\n",
        "      <td> 0</td>\n",
        "      <td> https://d1c8v1qci5en44.cloudfront.net/site/bee...</td>\n",
        "      <td> Timmermans Pumpkin Lambicus</td>\n",
        "      <td>     Pumpkin / Yam Beer</td>\n",
        "      <td> 248362</td>\n",
        "      <td> Thu, 18 Oct 2012 18:09:36 +0000</td>\n",
        "      <td> False</td>\n",
        "      <td> 1</td>\n",
        "      <td> 2313</td>\n",
        "      <td> https://d1c8v1qci5en44.cloudfront.net/site/bre...</td>\n",
        "      <td> Brewery John Martin &amp; Brewery Timmermans</td>\n",
        "      <td>         http://www.facebook.com/breweryjohnmartin</td>\n",
        "      <td> </td>\n",
        "      <td>  BenDelcourt</td>\n",
        "      <td>                      http://www.anthonymartin.com</td>\n",
        "      <td>       Belgium</td>\n",
        "      <td>       Genval</td>\n",
        "      <td>...</td>\n",
        "    </tr>\n",
        "  </tbody>\n",
        "</table>\n",
        "<p>4 rows \u00d7 26 columns</p>\n",
        "</div>"
       ],
       "metadata": {},
       "output_type": "pyout",
       "prompt_number": 201,
       "text": [
        "   beer.auth_rating  beer.beer_abv  \\\n",
        "0                 0            5.9   \n",
        "1                 0            6.0   \n",
        "2                 0            6.8   \n",
        "3                 0            4.0   \n",
        "\n",
        "                               beer.beer_description  beer.beer_ibu  \\\n",
        "0  Packed with real pumpkins, hints of spice and ...              0   \n",
        "1                                                                 0   \n",
        "2  Ale Brewed with Rose Hips, Rose Petals, and Hi...              0   \n",
        "3  Two traditions are brought together here in a ...              0   \n",
        "\n",
        "                                     beer.beer_label  \\\n",
        "0  https://d1c8v1qci5en44.cloudfront.net/site/bee...   \n",
        "1  https://d1c8v1qci5en44.cloudfront.net/site/bee...   \n",
        "2  https://d1c8v1qci5en44.cloudfront.net/site/bee...   \n",
        "3  https://d1c8v1qci5en44.cloudfront.net/site/bee...   \n",
        "\n",
        "                beer.beer_name         beer.beer_style  beer.bid  \\\n",
        "0                   La Parcela      Pumpkin / Yam Beer      8157   \n",
        "1               Jaw-Jacker Ale      Pumpkin / Yam Beer     77548   \n",
        "2    Baudelaire Beer iO Saison  Saison / Farmhouse Ale     35297   \n",
        "3  Timmermans Pumpkin Lambicus      Pumpkin / Yam Beer    248362   \n",
        "\n",
        "                   beer.created_at beer.wish_list  brewery.brewery_active  \\\n",
        "0  Tue, 09 Nov 2010 09:01:05 +0000          False                       1   \n",
        "1  Thu, 08 Sep 2011 18:15:47 +0000          False                       1   \n",
        "2  Sat, 05 Mar 2011 18:04:15 +0000          False                       1   \n",
        "3  Thu, 18 Oct 2012 18:09:36 +0000          False                       1   \n",
        "\n",
        "   brewery.brewery_id                              brewery.brewery_label  \\\n",
        "0                 723  https://d1c8v1qci5en44.cloudfront.net/site/bre...   \n",
        "1                  47  https://d1c8v1qci5en44.cloudfront.net/site/bre...   \n",
        "2                 723  https://d1c8v1qci5en44.cloudfront.net/site/bre...   \n",
        "3                2313  https://d1c8v1qci5en44.cloudfront.net/site/bre...   \n",
        "\n",
        "                       brewery.brewery_name  \\\n",
        "0                Jolly Pumpkin Artisan Ales   \n",
        "1    Arcadia Brewing Company (Arcadia Ales)   \n",
        "2                Jolly Pumpkin Artisan Ales   \n",
        "3  Brewery John Martin & Brewery Timmermans   \n",
        "\n",
        "                            brewery.contact.facebook  \\\n",
        "0  http://www.facebook.com/pages/Jolly-Pumpkin-Ar...   \n",
        "1                http://www.facebook.com/arcadiaales   \n",
        "2  http://www.facebook.com/pages/Jolly-Pumpkin-Ar...   \n",
        "3          http://www.facebook.com/breweryjohnmartin   \n",
        "\n",
        "  brewery.contact.instagram brewery.contact.twitter  \\\n",
        "0                                      jollypumpkin   \n",
        "1                                       ArcadiaAles   \n",
        "2                                      jollypumpkin   \n",
        "3                                       BenDelcourt   \n",
        "\n",
        "                                 brewery.contact.url brewery.country_name  \\\n",
        "0  http://www.jollypumpkin.com/artisanales/Defaul...        United States   \n",
        "1                        http://www.arcadiaales.com/        United States   \n",
        "2  http://www.jollypumpkin.com/artisanales/Defaul...        United States   \n",
        "3                       http://www.anthonymartin.com              Belgium   \n",
        "\n",
        "  brewery.location.brewery_city      \n",
        "0                        Dexter ...  \n",
        "1                  Battle Creek ...  \n",
        "2                        Dexter ...  \n",
        "3                        Genval ...  \n",
        "\n",
        "[4 rows x 26 columns]"
       ]
      }
     ],
     "prompt_number": 201
    },
    {
     "cell_type": "code",
     "collapsed": false,
     "input": [
      "beerFrame.to_csv('/Users/Gus/Dropbox/FastCo/projects_static/untappd/pumpkinBeers_2.csv', encoding='utf-8')"
     ],
     "language": "python",
     "metadata": {},
     "outputs": [],
     "prompt_number": 202
    },
    {
     "cell_type": "markdown",
     "metadata": {},
     "source": [
      "# Part 2 - Getting the Ratings\n"
     ]
    },
    {
     "cell_type": "code",
     "collapsed": false,
     "input": [
      "## Pseudocode:\n",
      "## Get the first 100 beer.bid from the beerFrame\n",
      "## Run the correct API search for that beer\n",
      "## Store the resulting JSON in an array\n",
      "## Repeat an hour after the first batch finished with the next batch\n",
      "## Convert that JSON\n",
      "## Join the new dataframe to beerFrame on the beer.bid axis\n",
      "## Clean up the dataframe\n",
      "## Export to CSV"
     ],
     "language": "python",
     "metadata": {},
     "outputs": [],
     "prompt_number": 203
    },
    {
     "cell_type": "code",
     "collapsed": false,
     "input": [
      "## Get the first 100 beer.bid from the beerFrame\n",
      "\n",
      "url = 'http://api.untappd.com/v4/beer/info/BID'\n",
      "ourParams = {\n",
      "    'client_id':'C0B05557830DDCDF519E0979BBEC4DC7F9E6CB1D', \n",
      "    'client_secret':'29B78C7E0846640D4359CC691D2CD1145C5EF5AA',\n",
      "    'BID':''\n",
      "}\n",
      "\n",
      "# def getBeerRating(url, ourParams):\n",
      "#     ourRequest = requests.get(url, params = ourParams)\n",
      "#     found = ourRequest.json()['response']['found']\n",
      "#     offsetIncrement = ourParams['limit']  \n",
      "#     for offsetNum in range(100, found/offsetIncrement + 1):\n",
      "#         ourParams['offset'] += offsetIncrement\n",
      "#         ourRequest = requests.get(url, params = ourParams)\n",
      "#         if ourRequest.status_code == 200:\n",
      "#             r = ourRequest.json()['response']['beers']['items']\n",
      "#             print(len(r))\n",
      "#             jsonArr.append(r)\n",
      "#         else:\n",
      "#             print(offsetNum, strftime(\"%Y-%m-%d %H:%M\"))\n",
      "#             break\n",
      "#     return jsonArr\n",
      "        \n",
      "# finalJSON = getBeerRating(url, ourParams)\n",
      "\n",
      "schedule.every().hour.do(getBeerRating)\n",
      "\n",
      "while True:\n",
      "    schedule.run_pending()\n",
      "    time.sleep(1)"
     ],
     "language": "python",
     "metadata": {},
     "outputs": [
      {
       "output_type": "stream",
       "stream": "stdout",
       "text": [
        "I'm working...\n",
        "I'm working..."
       ]
      },
      {
       "output_type": "stream",
       "stream": "stdout",
       "text": [
        "\n",
        "I'm working..."
       ]
      },
      {
       "output_type": "stream",
       "stream": "stdout",
       "text": [
        "\n",
        "I'm working..."
       ]
      },
      {
       "output_type": "stream",
       "stream": "stdout",
       "text": [
        "\n",
        "I'm working..."
       ]
      },
      {
       "output_type": "stream",
       "stream": "stdout",
       "text": [
        "\n",
        "I'm working..."
       ]
      },
      {
       "output_type": "stream",
       "stream": "stdout",
       "text": [
        "\n"
       ]
      },
      {
       "ename": "KeyboardInterrupt",
       "evalue": "",
       "output_type": "pyerr",
       "traceback": [
        "\u001b[0;31m---------------------------------------------------------------------------\u001b[0m\n\u001b[0;31mKeyboardInterrupt\u001b[0m                         Traceback (most recent call last)",
        "\u001b[0;32m<ipython-input-208-0fabdad351e8>\u001b[0m in \u001b[0;36m<module>\u001b[0;34m()\u001b[0m\n\u001b[1;32m     15\u001b[0m \u001b[0;32mwhile\u001b[0m \u001b[0mTrue\u001b[0m\u001b[0;34m:\u001b[0m\u001b[0;34m\u001b[0m\u001b[0m\n\u001b[1;32m     16\u001b[0m     \u001b[0mschedule\u001b[0m\u001b[0;34m.\u001b[0m\u001b[0mrun_pending\u001b[0m\u001b[0;34m(\u001b[0m\u001b[0;34m)\u001b[0m\u001b[0;34m\u001b[0m\u001b[0m\n\u001b[0;32m---> 17\u001b[0;31m     \u001b[0mtime\u001b[0m\u001b[0;34m.\u001b[0m\u001b[0msleep\u001b[0m\u001b[0;34m(\u001b[0m\u001b[0;36m1\u001b[0m\u001b[0;34m)\u001b[0m\u001b[0;34m\u001b[0m\u001b[0m\n\u001b[0m\u001b[1;32m     18\u001b[0m \u001b[0;34m\u001b[0m\u001b[0m\n\u001b[1;32m     19\u001b[0m \u001b[0;31m# def getBeerRating(url, ourParams):\u001b[0m\u001b[0;34m\u001b[0m\u001b[0;34m\u001b[0m\u001b[0m\n",
        "\u001b[0;31mKeyboardInterrupt\u001b[0m: "
       ]
      }
     ],
     "prompt_number": 208
    },
    {
     "cell_type": "code",
     "collapsed": false,
     "input": [],
     "language": "python",
     "metadata": {},
     "outputs": []
    }
   ],
   "metadata": {}
  }
 ]
}