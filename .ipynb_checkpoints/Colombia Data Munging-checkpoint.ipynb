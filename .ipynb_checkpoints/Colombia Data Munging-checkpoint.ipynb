{
 "metadata": {
  "name": "",
  "signature": "sha256:c08eff77395413b699d0238bf38140869f655b64d09ccedf53d4e7811a58e708"
 },
 "nbformat": 3,
 "nbformat_minor": 0,
 "worksheets": []
}