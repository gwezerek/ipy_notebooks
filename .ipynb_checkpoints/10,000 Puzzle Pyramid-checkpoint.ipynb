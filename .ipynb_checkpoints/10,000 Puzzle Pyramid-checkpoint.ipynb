{
 "metadata": {
  "name": "",
  "signature": "sha256:ba54267c536a580486c840aaa594d0942586ca27b3c86cd6fce01cb03cd974c2"
 },
 "nbformat": 3,
 "nbformat_minor": 0,
 "worksheets": [
  {
   "cells": [
    {
     "cell_type": "code",
     "collapsed": false,
     "input": [
      "import glob\n",
      "import numpy as np"
     ],
     "language": "python",
     "metadata": {},
     "outputs": [],
     "prompt_number": 2
    },
    {
     "cell_type": "code",
     "collapsed": false,
     "input": [
      "folderPath = '/Users/Gus/Dropbox/puzzle_hunt/pyramid/'\n",
      "folders = glob.glob(folderPath + \"*\")\n",
      "outString = ''\n",
      "\n",
      "with open('/Users/Gus/Dropbox/puzzle_hunt/outfile_1.txt', 'w') as outfile:\n",
      "    for folder in folders:\n",
      "        for fname in glob.glob(folder + '/*.txt'):\n",
      "            infile = open(fname)\n",
      "            outfile.write(infile.read())\n",
      "            infile.close()"
     ],
     "language": "python",
     "metadata": {},
     "outputs": [],
     "prompt_number": 3
    },
    {
     "cell_type": "code",
     "collapsed": false,
     "input": [
      "allLines = open('/Users/Gus/Dropbox/puzzle_hunt/outfile_1.txt', 'r')\n",
      "allLinesStr = allLines.readlines()\n",
      "allLinesArr = []\n",
      "\n",
      "for line in allLinesStr:\n",
      "    allLinesArr.append(line)\n",
      "\n",
      "allLinesArr.sort()"
     ],
     "language": "python",
     "metadata": {},
     "outputs": [],
     "prompt_number": 4
    },
    {
     "cell_type": "code",
     "collapsed": false,
     "input": [
      "sortedStrings = ''.join(allLinesArr)"
     ],
     "language": "python",
     "metadata": {},
     "outputs": [],
     "prompt_number": 5
    },
    {
     "cell_type": "code",
     "collapsed": false,
     "input": [
      "with open('/Users/Gus/Dropbox/puzzle_hunt/outfile_sorted.txt', 'w') as outfile:\n",
      "    outfile.write(sortedStrings)\n",
      "    outfile.close()"
     ],
     "language": "python",
     "metadata": {},
     "outputs": [],
     "prompt_number": 6
    },
    {
     "cell_type": "code",
     "collapsed": false,
     "input": [
      "onlyColonsArr = []\n",
      "\n",
      "for condition in allLinesArr:\n",
      "    justColon = condition.split(':')[0]\n",
      "    onlyColonsArr.append(justColon)\n",
      "    \n",
      "onlyColonsSet = set(onlyColonsArr)\n",
      "backToList = list(onlyColonsSet)\n",
      "colonsString = ''.join(backToList)"
     ],
     "language": "python",
     "metadata": {},
     "outputs": [],
     "prompt_number": 7
    },
    {
     "cell_type": "code",
     "collapsed": false,
     "input": [],
     "language": "python",
     "metadata": {},
     "outputs": []
    }
   ],
   "metadata": {}
  }
 ]
}